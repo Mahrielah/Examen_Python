{
 "cells": [
  {
   "cell_type": "markdown",
   "metadata": {},
   "source": [
    "# Ejercicio Python\n",
    "##  Karen Gaona, Ana Mereles & Mariela Navarro\n",
    "\n",
    "###  Declara Librerías"
   ]
  },
  {
   "cell_type": "code",
   "execution_count": 1,
   "metadata": {},
   "outputs": [],
   "source": [
    "import pandas as pd\n",
    "import io\n",
    "import requests\n",
    "import matplotlib.pyplot as plt"
   ]
  },
  {
   "cell_type": "markdown",
   "metadata": {},
   "source": [
    "###  1.  Importa bases"
   ]
  },
  {
   "cell_type": "code",
   "execution_count": 2,
   "metadata": {},
   "outputs": [],
   "source": [
    "url_test = \"https://s3-ap-southeast-1.amazonaws.com/av-datahack-datacamp/test.csv\"\n",
    "s_test = requests.get(url_test).content\n",
    "test = pd.read_csv(io.StringIO(s_test.decode('utf-8')))\n",
    "\n",
    "\n",
    "url_train = \"https://s3-ap-southeast-1.amazonaws.com/av-datahack-datacamp/train.csv\"\n",
    "s_train = requests.get(url_train).content\n",
    "train = pd.read_csv(io.StringIO(s_train.decode('utf-8')))"
   ]
  },
  {
   "attachments": {},
   "cell_type": "markdown",
   "metadata": {},
   "source": [
    "### 2.  Descripción de variables\n",
    "\n",
    "####  &nbsp; Tabla 2.1 - Test\n",
    "\n",
    "| Nombre | Descripción | Posibles Valores | Tipo de Dato | \n",
    "| :----: | :---------: | :--------------: | :----------: | \n",
    "| Loan_ID | x | x | x | \n",
    "| Gender | x | x | x | \n",
    "| Married | x | x | x | \n",
    "| Dependents | x | x | x | \n",
    "| Education | x | x | x | \n",
    "| Self_Employed | x | x | x | \n",
    "| ApplicantIncome | x | x | x | \n",
    "| CoapplicantIncome | x | x | x | \n",
    "| LoanAmount | x | x | x | \n",
    "| Loan_Amount_Term | x | x | x | \n",
    "| Credit_History | x | x | x | \n",
    "| Property_Area | x | x | x | \n",
    "\n",
    "####  &nbsp; Tabla 2.2 - Train\n",
    "\n",
    "| Nombre | Descripción | Posibles Valores | Tipo de Dato | \n",
    "| :----: | :---------: | :--------------: | :----------: | \n",
    "| Loan_ID | x | x | x | \n",
    "| Gender | x | x | x | \n",
    "| Married | x | x | x | \n",
    "| Dependents | x | x | x | \n",
    "| Education | x | x | x | \n",
    "| Self_Employed | x | x | x | \n",
    "| ApplicantIncome | x | x | x | \n",
    "| CoapplicantIncome | x | x | x | \n",
    "| LoanAmount | x | x | x | \n",
    "| Loan_Amount_Term | x | x | x | \n",
    "| Credit_History | x | x | x | \n",
    "| Property_Area | x | x | x | \n",
    "| Loan_Status | x | x | x | \n"
   ]
  },
  {
   "cell_type": "markdown",
   "metadata": {},
   "source": [
    "### 7.  Crosstab\n",
    "\n",
    "**- ¿Le otrogan más Créditos a las mujeres que a los hombres?**"
   ]
  },
  {
   "cell_type": "code",
   "execution_count": 3,
   "metadata": {},
   "outputs": [
    {
     "data": {
      "text/html": [
       "<div>\n",
       "<style scoped>\n",
       "    .dataframe tbody tr th:only-of-type {\n",
       "        vertical-align: middle;\n",
       "    }\n",
       "\n",
       "    .dataframe tbody tr th {\n",
       "        vertical-align: top;\n",
       "    }\n",
       "\n",
       "    .dataframe thead th {\n",
       "        text-align: right;\n",
       "    }\n",
       "</style>\n",
       "<table border=\"1\" class=\"dataframe\">\n",
       "  <thead>\n",
       "    <tr style=\"text-align: right;\">\n",
       "      <th>Loan_Status</th>\n",
       "      <th>N</th>\n",
       "      <th>Y</th>\n",
       "    </tr>\n",
       "    <tr>\n",
       "      <th>Gender</th>\n",
       "      <th></th>\n",
       "      <th></th>\n",
       "    </tr>\n",
       "  </thead>\n",
       "  <tbody>\n",
       "    <tr>\n",
       "      <th>Female</th>\n",
       "      <td>0.330357</td>\n",
       "      <td>0.669643</td>\n",
       "    </tr>\n",
       "    <tr>\n",
       "      <th>Male</th>\n",
       "      <td>0.306748</td>\n",
       "      <td>0.693252</td>\n",
       "    </tr>\n",
       "  </tbody>\n",
       "</table>\n",
       "</div>"
      ],
      "text/plain": [
       "Loan_Status         N         Y\n",
       "Gender                         \n",
       "Female       0.330357  0.669643\n",
       "Male         0.306748  0.693252"
      ]
     },
     "execution_count": 3,
     "metadata": {},
     "output_type": "execute_result"
    }
   ],
   "source": [
    "pd.crosstab(train[\"Gender\"],train[\"Loan_Status\"],margins=False,normalize='index')"
   ]
  },
  {
   "cell_type": "markdown",
   "metadata": {},
   "source": [
    "*R =  No, en la tabla anterior se observa que el sexo no es una variable que discrimine el otorgamiento de los Créditos ya que se le otorgan créditos al mismo porcentaje de hombres que de mujeres.*\n",
    "\n",
    "<br>\n",
    "\n",
    "**- ¿Es más fácil que se otorgue un crédito si se tiene historial crediticio?**"
   ]
  },
  {
   "cell_type": "code",
   "execution_count": 4,
   "metadata": {},
   "outputs": [
    {
     "data": {
      "text/html": [
       "<div>\n",
       "<style scoped>\n",
       "    .dataframe tbody tr th:only-of-type {\n",
       "        vertical-align: middle;\n",
       "    }\n",
       "\n",
       "    .dataframe tbody tr th {\n",
       "        vertical-align: top;\n",
       "    }\n",
       "\n",
       "    .dataframe thead th {\n",
       "        text-align: right;\n",
       "    }\n",
       "</style>\n",
       "<table border=\"1\" class=\"dataframe\">\n",
       "  <thead>\n",
       "    <tr style=\"text-align: right;\">\n",
       "      <th>Loan_Status</th>\n",
       "      <th>N</th>\n",
       "      <th>Y</th>\n",
       "    </tr>\n",
       "    <tr>\n",
       "      <th>Credit_History</th>\n",
       "      <th></th>\n",
       "      <th></th>\n",
       "    </tr>\n",
       "  </thead>\n",
       "  <tbody>\n",
       "    <tr>\n",
       "      <th>0.0</th>\n",
       "      <td>0.921348</td>\n",
       "      <td>0.078652</td>\n",
       "    </tr>\n",
       "    <tr>\n",
       "      <th>1.0</th>\n",
       "      <td>0.204211</td>\n",
       "      <td>0.795789</td>\n",
       "    </tr>\n",
       "  </tbody>\n",
       "</table>\n",
       "</div>"
      ],
      "text/plain": [
       "Loan_Status            N         Y\n",
       "Credit_History                    \n",
       "0.0             0.921348  0.078652\n",
       "1.0             0.204211  0.795789"
      ]
     },
     "execution_count": 4,
     "metadata": {},
     "output_type": "execute_result"
    }
   ],
   "source": [
    "pd.crosstab(train[\"Credit_History\"],train[\"Loan_Status\"],margins=False,normalize='index')"
   ]
  },
  {
   "cell_type": "markdown",
   "metadata": {},
   "source": [
    "*R =  Si, en la tabla anterior se observa que al 80% de las personas que tienen historial crediticio se les otorga el Crédito mientras que únicamente al 7% de las personas que no tienen historial crediticio se les otorga un crédito.*"
   ]
  }
 ],
 "metadata": {
  "kernelspec": {
   "display_name": "Python 3",
   "language": "python",
   "name": "python3"
  },
  "language_info": {
   "codemirror_mode": {
    "name": "ipython",
    "version": 3
   },
   "file_extension": ".py",
   "mimetype": "text/x-python",
   "name": "python",
   "nbconvert_exporter": "python",
   "pygments_lexer": "ipython3",
   "version": "3.7.0"
  }
 },
 "nbformat": 4,
 "nbformat_minor": 2
}
